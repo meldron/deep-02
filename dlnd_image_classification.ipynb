{
 "cells": [
  {
   "cell_type": "markdown",
   "metadata": {
    "collapsed": true,
    "deletable": true,
    "editable": true
   },
   "source": [
    "# Image Classification\n",
    "In this project, you'll classify images from the [CIFAR-10 dataset](https://www.cs.toronto.edu/~kriz/cifar.html).  The dataset consists of airplanes, dogs, cats, and other objects. You'll preprocess the images, then train a convolutional neural network on all the samples. The images need to be normalized and the labels need to be one-hot encoded.  You'll get to apply what you learned and build a convolutional, max pooling, dropout, and fully connected layers.  At the end, you'll get to see your neural network's predictions on the sample images.\n",
    "## Get the Data\n",
    "Run the following cell to download the [CIFAR-10 dataset for python](https://www.cs.toronto.edu/~kriz/cifar-10-python.tar.gz)."
   ]
  },
  {
   "cell_type": "code",
   "execution_count": 2,
   "metadata": {
    "collapsed": false,
    "deletable": true,
    "editable": true
   },
   "outputs": [
    {
     "name": "stdout",
     "output_type": "stream",
     "text": [
      "All files found!\n"
     ]
    }
   ],
   "source": [
    "\"\"\"\n",
    "DON'T MODIFY ANYTHING IN THIS CELL THAT IS BELOW THIS LINE\n",
    "\"\"\"\n",
    "from urllib.request import urlretrieve\n",
    "from os.path import isfile, isdir\n",
    "from tqdm import tqdm\n",
    "import problem_unittests as tests\n",
    "import tarfile\n",
    "\n",
    "cifar10_dataset_folder_path = 'cifar-10-batches-py'\n",
    "\n",
    "class DLProgress(tqdm):\n",
    "    last_block = 0\n",
    "\n",
    "    def hook(self, block_num=1, block_size=1, total_size=None):\n",
    "        self.total = total_size\n",
    "        self.update((block_num - self.last_block) * block_size)\n",
    "        self.last_block = block_num\n",
    "\n",
    "if not isfile('cifar-10-python.tar.gz'):\n",
    "    with DLProgress(unit='B', unit_scale=True, miniters=1, desc='CIFAR-10 Dataset') as pbar:\n",
    "        urlretrieve(\n",
    "            'https://www.cs.toronto.edu/~kriz/cifar-10-python.tar.gz',\n",
    "            'cifar-10-python.tar.gz',\n",
    "            pbar.hook)\n",
    "\n",
    "if not isdir(cifar10_dataset_folder_path):\n",
    "    with tarfile.open('cifar-10-python.tar.gz') as tar:\n",
    "        tar.extractall()\n",
    "        tar.close()\n",
    "\n",
    "\n",
    "tests.test_folder_path(cifar10_dataset_folder_path)"
   ]
  },
  {
   "cell_type": "markdown",
   "metadata": {
    "deletable": true,
    "editable": true
   },
   "source": [
    "## Explore the Data\n",
    "The dataset is broken into batches to prevent your machine from running out of memory.  The CIFAR-10 dataset consists of 5 batches, named `data_batch_1`, `data_batch_2`, etc.. Each batch contains the labels and images that are one of the following:\n",
    "* airplane\n",
    "* automobile\n",
    "* bird\n",
    "* cat\n",
    "* deer\n",
    "* dog\n",
    "* frog\n",
    "* horse\n",
    "* ship\n",
    "* truck\n",
    "\n",
    "Understanding a dataset is part of making predictions on the data.  Play around with the code cell below by changing the `batch_id` and `sample_id`. The `batch_id` is the id for a batch (1-5). The `sample_id` is the id for a image and label pair in the batch.\n",
    "\n",
    "Ask yourself \"What are all possible labels?\", \"What is the range of values for the image data?\", \"Are the labels in order or random?\".  Answers to questions like these will help you preprocess the data and end up with better predictions."
   ]
  },
  {
   "cell_type": "code",
   "execution_count": 3,
   "metadata": {
    "collapsed": false,
    "deletable": true,
    "editable": true
   },
   "outputs": [
    {
     "name": "stdout",
     "output_type": "stream",
     "text": [
      "\n",
      "Stats of batch 1:\n",
      "Samples: 10000\n",
      "Label Counts: {0: 1005, 1: 974, 2: 1032, 3: 1016, 4: 999, 5: 937, 6: 1030, 7: 1001, 8: 1025, 9: 981}\n",
      "First 20 Labels: [6, 9, 9, 4, 1, 1, 2, 7, 8, 3, 4, 7, 7, 2, 9, 9, 9, 3, 2, 6]\n",
      "\n",
      "Example of Image 5:\n",
      "Image - Min Value: 0 Max Value: 252\n",
      "Image - Shape: (32, 32, 3)\n",
      "Label - Label Id: 1 Name: automobile\n"
     ]
    },
    {
     "data": {
      "image/png": "[encoded data removed]",
      "text/plain": [
       "<matplotlib.figure.Figure at 0x7fe8d65d39e8>"
      ]
     },
     "metadata": {
      "image/png": {
       "height": 250,
       "width": 253
      }
     },
     "output_type": "display_data"
    }
   ],
   "source": [
    "%matplotlib inline\n",
    "%config InlineBackend.figure_format = 'retina'\n",
    "\n",
    "import helper\n",
    "import numpy as np\n",
    "\n",
    "# Explore the dataset\n",
    "batch_id = 1\n",
    "sample_id = 5\n",
    "helper.display_stats(cifar10_dataset_folder_path, batch_id, sample_id)"
   ]
  },
  {
   "cell_type": "markdown",
   "metadata": {
    "deletable": true,
    "editable": true
   },
   "source": [
    "## Implement Preprocess Functions\n",
    "### Normalize\n",
    "In the cell below, implement the `normalize` function to take in image data, `x`, and return it as a normalized Numpy array. The values should be in the range of 0 to 1, inclusive.  The return object should be the same shape as `x`."
   ]
  },
  {
   "cell_type": "code",
   "execution_count": 4,
   "metadata": {
    "collapsed": false,
    "deletable": true,
    "editable": true
   },
   "outputs": [
    {
     "name": "stdout",
     "output_type": "stream",
     "text": [
      "Tests Passed\n"
     ]
    }
   ],
   "source": [
    "def normalize(x):\n",
    "    \"\"\"\n",
    "    Normalize a list of sample image data in the range of 0 to 1\n",
    "    : x: List of image data.  The image shape is (32, 32, 3)\n",
    "    : return: Numpy array of normalize data\n",
    "    \"\"\"\n",
    "    # z = (xi - min(x)) / (max(x) - min(x)) (no scaling)\n",
    "    # for images: min(x) = 0, max(x) = 255 => z = xi / 255\n",
    "    return np.divide(x, 255)\n",
    "\n",
    "\n",
    "\"\"\"\n",
    "DON'T MODIFY ANYTHING IN THIS CELL THAT IS BELOW THIS LINE\n",
    "\"\"\"\n",
    "tests.test_normalize(normalize)"
   ]
  },
  {
   "cell_type": "markdown",
   "metadata": {
    "deletable": true,
    "editable": true
   },
   "source": [
    "### One-hot encode\n",
    "Just like the previous code cell, you'll be implementing a function for preprocessing.  This time, you'll implement the `one_hot_encode` function. The input, `x`, are a list of labels.  Implement the function to return the list of labels as One-Hot encoded Numpy array.  The possible values for labels are 0 to 9. The one-hot encoding function should return the same encoding for each value between each call to `one_hot_encode`.  Make sure to save the map of encodings outside the function.\n",
    "\n",
    "Hint: Don't reinvent the wheel."
   ]
  },
  {
   "cell_type": "code",
   "execution_count": 5,
   "metadata": {
    "collapsed": false,
    "deletable": true,
    "editable": true
   },
   "outputs": [
    {
     "name": "stdout",
     "output_type": "stream",
     "text": [
      "Tests Passed\n"
     ]
    }
   ],
   "source": [
    "n_labels = 10\n",
    "\n",
    "def one_hot_encode(x):\n",
    "    \"\"\"\n",
    "    One hot encode a list of sample labels. Return a one-hot encoded vector for each label.\n",
    "    : x: List of sample Labels\n",
    "    : return: Numpy array of one-hot encoded labels\n",
    "    \"\"\"\n",
    "    # empty one_hot_matrix with dimensions num_x, n_labels \n",
    "    one_hot_matrix = np.zeros((len(x), n_labels))\n",
    "    \n",
    "    one_hot_matrix[np.arange(len(x)), x] = 1\n",
    "    \n",
    "    return one_hot_matrix\n",
    "\n",
    "\n",
    "\"\"\"\n",
    "DON'T MODIFY ANYTHING IN THIS CELL THAT IS BELOW THIS LINE\n",
    "\"\"\"\n",
    "tests.test_one_hot_encode(one_hot_encode)"
   ]
  },
  {
   "cell_type": "markdown",
   "metadata": {
    "deletable": true,
    "editable": true
   },
   "source": [
    "### Randomize Data\n",
    "As you saw from exploring the data above, the order of the samples are randomized.  It doesn't hurt to randomize it again, but you don't need to for this dataset."
   ]
  },
  {
   "cell_type": "markdown",
   "metadata": {
    "deletable": true,
    "editable": true
   },
   "source": [
    "## Preprocess all the data and save it\n",
    "Running the code cell below will preprocess all the CIFAR-10 data and save it to file. The code below also uses 10% of the training data for validation."
   ]
  },
  {
   "cell_type": "code",
   "execution_count": 6,
   "metadata": {
    "collapsed": false,
    "deletable": true,
    "editable": true
   },
   "outputs": [],
   "source": [
    "\"\"\"\n",
    "DON'T MODIFY ANYTHING IN THIS CELL\n",
    "\"\"\"\n",
    "# Preprocess Training, Validation, and Testing Data\n",
    "helper.preprocess_and_save_data(cifar10_dataset_folder_path, normalize, one_hot_encode)"
   ]
  },
  {
   "cell_type": "markdown",
   "metadata": {
    "deletable": true,
    "editable": true
   },
   "source": [
    "# Check Point\n",
    "This is your first checkpoint.  If you ever decide to come back to this notebook or have to restart the notebook, you can start from here.  The preprocessed data has been saved to disk."
   ]
  },
  {
   "cell_type": "code",
   "execution_count": 7,
   "metadata": {
    "collapsed": true,
    "deletable": true,
    "editable": true
   },
   "outputs": [],
   "source": [
    "\"\"\"\n",
    "DON'T MODIFY ANYTHING IN THIS CELL\n",
    "\"\"\"\n",
    "import pickle\n",
    "import problem_unittests as tests\n",
    "import helper\n",
    "\n",
    "# Load the Preprocessed Validation data\n",
    "valid_features, valid_labels = pickle.load(open('preprocess_validation.p', mode='rb'))"
   ]
  },
  {
   "cell_type": "markdown",
   "metadata": {
    "deletable": true,
    "editable": true
   },
   "source": [
    "## Build the network\n",
    "For the neural network, you'll build each layer into a function.  Most of the code you've seen has been outside of functions. To test your code more thoroughly, we require that you put each layer in a function.  This allows us to give you better feedback and test for simple mistakes using our unittests before you submit your project.\n",
    "\n",
    ">**Note:** If you're finding it hard to dedicate enough time for this course each week, we've provided a small shortcut to this part of the project. In the next couple of problems, you'll have the option to use classes from the [TensorFlow Layers](https://www.tensorflow.org/api_docs/python/tf/layers) or [TensorFlow Layers (contrib)](https://www.tensorflow.org/api_guides/python/contrib.layers) packages to build each layer, except the layers you build in the \"Convolutional and Max Pooling Layer\" section.  TF Layers is similar to Keras's and TFLearn's abstraction to layers, so it's easy to pickup.\n",
    "\n",
    ">However, if you would like to get the most out of this course, try to solve all the problems _without_ using anything from the TF Layers packages. You **can** still use classes from other packages that happen to have the same name as ones you find in TF Layers! For example, instead of using the TF Layers version of the `conv2d` class, [tf.layers.conv2d](https://www.tensorflow.org/api_docs/python/tf/layers/conv2d), you would want to use the TF Neural Network version of `conv2d`, [tf.nn.conv2d](https://www.tensorflow.org/api_docs/python/tf/nn/conv2d). \n",
    "\n",
    "Let's begin!\n",
    "\n",
    "### Input\n",
    "The neural network needs to read the image data, one-hot encoded labels, and dropout keep probability. Implement the following functions\n",
    "* Implement `neural_net_image_input`\n",
    " * Return a [TF Placeholder](https://www.tensorflow.org/api_docs/python/tf/placeholder)\n",
    " * Set the shape using `image_shape` with batch size set to `None`.\n",
    " * Name the TensorFlow placeholder \"x\" using the TensorFlow `name` parameter in the [TF Placeholder](https://www.tensorflow.org/api_docs/python/tf/placeholder).\n",
    "* Implement `neural_net_label_input`\n",
    " * Return a [TF Placeholder](https://www.tensorflow.org/api_docs/python/tf/placeholder)\n",
    " * Set the shape using `n_classes` with batch size set to `None`.\n",
    " * Name the TensorFlow placeholder \"y\" using the TensorFlow `name` parameter in the [TF Placeholder](https://www.tensorflow.org/api_docs/python/tf/placeholder).\n",
    "* Implement `neural_net_keep_prob_input`\n",
    " * Return a [TF Placeholder](https://www.tensorflow.org/api_docs/python/tf/placeholder) for dropout keep probability.\n",
    " * Name the TensorFlow placeholder \"keep_prob\" using the TensorFlow `name` parameter in the [TF Placeholder](https://www.tensorflow.org/api_docs/python/tf/placeholder).\n",
    "\n",
    "These names will be used at the end of the project to load your saved model.\n",
    "\n",
    "Note: `None` for shapes in TensorFlow allow for a dynamic size."
   ]
  },
  {
   "cell_type": "code",
   "execution_count": 8,
   "metadata": {
    "collapsed": false,
    "deletable": true,
    "editable": true
   },
   "outputs": [
    {
     "name": "stdout",
     "output_type": "stream",
     "text": [
      "Image Input Tests Passed.\n",
      "Label Input Tests Passed.\n",
      "Keep Prob Tests Passed.\n"
     ]
    }
   ],
   "source": [
    "import tensorflow as tf\n",
    "\n",
    "def neural_net_image_input(image_shape):\n",
    "    \"\"\"\n",
    "    Return a Tensor for a bach of image input\n",
    "    : image_shape: Shape of the images\n",
    "    : return: Tensor for image input.\n",
    "    \"\"\"\n",
    "    \n",
    "    #shape = [None] + list(image_shape)\n",
    "    shape = [None, *image_shape]\n",
    "    \n",
    "    return tf.placeholder(tf.float32, shape=shape, name='x')\n",
    "\n",
    "def neural_net_label_input(n_classes):\n",
    "    \"\"\"\n",
    "    Return a Tensor for a batch of label input\n",
    "    : n_classes: Number of classes\n",
    "    : return: Tensor for label input.\n",
    "    \"\"\"\n",
    "    shape = [None, n_classes]\n",
    "    \n",
    "    return tf.placeholder(tf.float32, shape=shape, name='y')\n",
    "\n",
    "\n",
    "def neural_net_keep_prob_input():\n",
    "    \"\"\"\n",
    "    Return a Tensor for keep probability\n",
    "    : return: Tensor for keep probability.\n",
    "    \"\"\"\n",
    "    \n",
    "    return tf.placeholder(tf.float32, name='keep_prob')\n",
    "\n",
    "\n",
    "\"\"\"\n",
    "DON'T MODIFY ANYTHING IN THIS CELL THAT IS BELOW THIS LINE\n",
    "\"\"\"\n",
    "tf.reset_default_graph()\n",
    "tests.test_nn_image_inputs(neural_net_image_input)\n",
    "tests.test_nn_label_inputs(neural_net_label_input)\n",
    "tests.test_nn_keep_prob_inputs(neural_net_keep_prob_input)"
   ]
  },
  {
   "cell_type": "markdown",
   "metadata": {
    "deletable": true,
    "editable": true
   },
   "source": [
    "### Convolution and Max Pooling Layer\n",
    "Convolution layers have a lot of success with images. For this code cell, you should implement the function `conv2d_maxpool` to apply convolution then max pooling:\n",
    "* Create the weight and bias using `conv_ksize`, `conv_num_outputs` and the shape of `x_tensor`.\n",
    "* Apply a convolution to `x_tensor` using weight and `conv_strides`.\n",
    " * We recommend you use same padding, but you're welcome to use any padding.\n",
    "* Add bias\n",
    "* Add a nonlinear activation to the convolution.\n",
    "* Apply Max Pooling using `pool_ksize` and `pool_strides`.\n",
    " * We recommend you use same padding, but you're welcome to use any padding.\n",
    "\n",
    "**Note:** You **can't** use [TensorFlow Layers](https://www.tensorflow.org/api_docs/python/tf/layers) or [TensorFlow Layers (contrib)](https://www.tensorflow.org/api_guides/python/contrib.layers) for **this** layer, but you can still use TensorFlow's [Neural Network](https://www.tensorflow.org/api_docs/python/tf/nn) package. You may still use the shortcut option for all the **other** layers."
   ]
  },
  {
   "cell_type": "code",
   "execution_count": 9,
   "metadata": {
    "collapsed": false,
    "deletable": true,
    "editable": true
   },
   "outputs": [
    {
     "name": "stdout",
     "output_type": "stream",
     "text": [
      "Tests Passed\n"
     ]
    }
   ],
   "source": [
    "def conv2d_maxpool(x_tensor, conv_num_outputs, conv_ksize, conv_strides, pool_ksize, pool_strides, padding='SAME'):\n",
    "    \"\"\"\n",
    "    Apply convolution then max pooling to x_tensor\n",
    "    :param x_tensor: TensorFlow Tensor\n",
    "    :param conv_num_outputs: Number of outputs for the convolutional layer\n",
    "    :param conv_ksize: kernal size 2-D Tuple for the convolutional layer\n",
    "    :param conv_strides: Stride 2-D Tuple for convolution\n",
    "    :param pool_ksize: kernal size 2-D Tuple for pool\n",
    "    :param pool_strides: Stride 2-D Tuple for pool\n",
    "    : return: A tensor that represents convolution and max pooling of x_tensor\n",
    "    \"\"\"\n",
    "    \n",
    "    # see Convolutional Networks -> (17.) TensorFlow Convolution Layer \n",
    "    # https://classroom.udacity.com/nanodegrees/nd101/parts/2a9dba0b-28eb-4b0e-acfa-bdcf35680d90/modules/ca299d5f-35f6-4520-a2b0-74c6878008b3/lessons/2fd24529-215c-47b5-a644-2c23650493f6/concepts/0377449f-ce0f-436b-8e11-2cdfefe20995\n",
    "    weight_shape = [conv_ksize[0], conv_ksize[1], x_tensor.get_shape().as_list()[-1], conv_num_outputs]\n",
    "    weight = tf.Variable(tf.truncated_normal(shape=weight_shape, mean=0.0, stddev=0.01))\n",
    "    \n",
    "    bias = tf.Variable(tf.zeros(conv_num_outputs))\n",
    "    \n",
    "    # Apply Convolution\n",
    "    conv_layer = tf.nn.conv2d(x_tensor, weight, strides=[1, conv_strides[0], conv_strides[1], 1], padding=padding)\n",
    "    # Add bias\n",
    "    conv_layer = tf.nn.bias_add(conv_layer, bias)\n",
    "    # Apply activation function\n",
    "    conv_layer = tf.nn.relu(conv_layer)\n",
    "    \n",
    "    # see https://www.tensorflow.org/api_docs/python/tf/nn/max_pool\n",
    "    conv_layer = tf.nn.max_pool(\n",
    "        conv_layer, ksize=[1, pool_ksize[0], pool_ksize[1], 1],\n",
    "        strides=[1, pool_strides[0],pool_strides[1], 1],\n",
    "        padding=padding\n",
    "    )\n",
    "    \n",
    "    return conv_layer \n",
    "\n",
    "\n",
    "\"\"\"\n",
    "DON'T MODIFY ANYTHING IN THIS CELL THAT IS BELOW THIS LINE\n",
    "\"\"\"\n",
    "tests.test_con_pool(conv2d_maxpool)"
   ]
  },
  {
   "cell_type": "markdown",
   "metadata": {
    "deletable": true,
    "editable": true
   },
   "source": [
    "### Flatten Layer\n",
    "Implement the `flatten` function to change the dimension of `x_tensor` from a 4-D tensor to a 2-D tensor.  The output should be the shape (*Batch Size*, *Flattened Image Size*). Shortcut option: you can use classes from the [TensorFlow Layers](https://www.tensorflow.org/api_docs/python/tf/layers) or [TensorFlow Layers (contrib)](https://www.tensorflow.org/api_guides/python/contrib.layers) packages for this layer. For more of a challenge, only use other TensorFlow packages."
   ]
  },
  {
   "cell_type": "code",
   "execution_count": 10,
   "metadata": {
    "collapsed": false,
    "deletable": true,
    "editable": true
   },
   "outputs": [
    {
     "name": "stdout",
     "output_type": "stream",
     "text": [
      "Tests Passed\n"
     ]
    }
   ],
   "source": [
    "def flatten(x_tensor):\n",
    "    \"\"\"\n",
    "    Flatten x_ten\n",
    "    sor to (Batch Size, Flattened Image Size)\n",
    "    : x_tensor: A tensor of size (Batch Size, ...), where ... are the image dimensions.\n",
    "    : return: A tensor of size (Batch Size, Flattened Image Size).\n",
    "    \"\"\"\n",
    "    # get tensor dimensions and calc num_elements \n",
    "    # see https://www.tensorflow.org/versions/r0.11/api_docs/cc/class/tensorflow/tensor-shape#num_elements\n",
    "    # print(x_tensor.get_shape())\n",
    "    n_elements = x_tensor.get_shape()[1:4].num_elements()\n",
    "    # print(n_elements)\n",
    "    \n",
    "    return tf.reshape(x_tensor, [-1, n_elements])\n",
    "\n",
    "\n",
    "\"\"\"\n",
    "DON'T MODIFY ANYTHING IN THIS CELL THAT IS BELOW THIS LINE\n",
    "\"\"\"\n",
    "tests.test_flatten(flatten)"
   ]
  },
  {
   "cell_type": "markdown",
   "metadata": {
    "deletable": true,
    "editable": true
   },
   "source": [
    "### Fully-Connected Layer\n",
    "Implement the `fully_conn` function to apply a fully connected layer to `x_tensor` with the shape (*Batch Size*, *num_outputs*). Shortcut option: you can use classes from the [TensorFlow Layers](https://www.tensorflow.org/api_docs/python/tf/layers) or [TensorFlow Layers (contrib)](https://www.tensorflow.org/api_guides/python/contrib.layers) packages for this layer. For more of a challenge, only use other TensorFlow packages."
   ]
  },
  {
   "cell_type": "code",
   "execution_count": 11,
   "metadata": {
    "collapsed": false,
    "deletable": true,
    "editable": true
   },
   "outputs": [
    {
     "name": "stdout",
     "output_type": "stream",
     "text": [
      "Tests Passed\n"
     ]
    }
   ],
   "source": [
    "def fully_conn(x_tensor, num_outputs):\n",
    "    \"\"\"\n",
    "    Apply a fully connected layer to x_tensor using weight and bias\n",
    "    : x_tensor: A 2-D tensor where the first dimension is batch size.\n",
    "    : num_outputs: The number of output that the new tensor should be.\n",
    "    : return: A 2-D tensor where the second dimension is num_outputs.\n",
    "    \"\"\"\n",
    "        \n",
    "    # weights = tf.Variable(tf.truncated_normal(shape=[x_tensor.get_shape().as_list()[-1], num_outputs], mean=0.0, stddev=0.1))\n",
    "    # bias = tf.Variable(tf.zeros([num_outputs]))\n",
    "    \n",
    "    # layer = tf.add(tf.matmul(x_tensor, weights), bias)\n",
    "    # layer = tf.nn.relu(layer)\n",
    "    \n",
    "    # return layer\n",
    "    \n",
    "    return tf.contrib.layers.fully_connected(inputs=x_tensor, num_outputs=num_outputs, activation_fn=tf.nn.relu)\n",
    "\n",
    "\n",
    "\"\"\"\n",
    "DON'T MODIFY ANYTHING IN THIS CELL THAT IS BELOW THIS LINE\n",
    "\"\"\"\n",
    "tests.test_fully_conn(fully_conn)"
   ]
  },
  {
   "cell_type": "markdown",
   "metadata": {
    "deletable": true,
    "editable": true
   },
   "source": [
    "### Output Layer\n",
    "Implement the `output` function to apply a fully connected layer to `x_tensor` with the shape (*Batch Size*, *num_outputs*). Shortcut option: you can use classes from the [TensorFlow Layers](https://www.tensorflow.org/api_docs/python/tf/layers) or [TensorFlow Layers (contrib)](https://www.tensorflow.org/api_guides/python/contrib.layers) packages for this layer. For more of a challenge, only use other TensorFlow packages.\n",
    "\n",
    "**Note:** Activation, softmax, or cross entropy should **not** be applied to this."
   ]
  },
  {
   "cell_type": "code",
   "execution_count": 12,
   "metadata": {
    "collapsed": false,
    "deletable": true,
    "editable": true
   },
   "outputs": [
    {
     "name": "stdout",
     "output_type": "stream",
     "text": [
      "Tests Passed\n"
     ]
    }
   ],
   "source": [
    "def output(x_tensor, num_outputs):\n",
    "    \"\"\"\n",
    "    Apply a output layer to x_tensor using weight and bias\n",
    "    : x_tensor: A 2-D tensor where the first dimension is batch size.\n",
    "    : num_outputs: The number of output that the new tensor should be.\n",
    "    : return: A 2-D tensor where the second dimension is num_outputs.\n",
    "    \"\"\"\n",
    "    # implementation like in Fully-Connected Layer without the activation function (relu)\n",
    "    # activation_fn defaults to relu, make sure to specifiy activation_fn=None for linear activation\n",
    "    return tf.contrib.layers.fully_connected(inputs=x_tensor, num_outputs=num_outputs, activation_fn=None)\n",
    "\n",
    "\n",
    "\"\"\"\n",
    "DON'T MODIFY ANYTHING IN THIS CELL THAT IS BELOW THIS LINE\n",
    "\"\"\"\n",
    "tests.test_output(output)"
   ]
  },
  {
   "cell_type": "markdown",
   "metadata": {
    "deletable": true,
    "editable": true
   },
   "source": [
    "### Create Convolutional Model\n",
    "Implement the function `conv_net` to create a convolutional neural network model. The function takes in a batch of images, `x`, and outputs logits.  Use the layers you created above to create this model:\n",
    "\n",
    "* Apply 1, 2, or 3 Convolution and Max Pool layers\n",
    "* Apply a Flatten Layer\n",
    "* Apply 1, 2, or 3 Fully Connected Layers\n",
    "* Apply an Output Layer\n",
    "* Return the output\n",
    "* Apply [TensorFlow's Dropout](https://www.tensorflow.org/api_docs/python/tf/nn/dropout) to one or more layers in the model using `keep_prob`. "
   ]
  },
  {
   "cell_type": "code",
   "execution_count": 13,
   "metadata": {
    "collapsed": false,
    "deletable": true,
    "editable": true
   },
   "outputs": [
    {
     "name": "stdout",
     "output_type": "stream",
     "text": [
      "Neural Network Built!\n"
     ]
    }
   ],
   "source": [
    "def conv_net(x, keep_prob):\n",
    "    \"\"\"\n",
    "    Create a convolutional neural network model\n",
    "    : x: Placeholder tensor that holds image data.\n",
    "    : keep_prob: Placeholder tensor that hold dropout keep probability.\n",
    "    : return: Tensor that represents logits\n",
    "    \"\"\"\n",
    "    \n",
    "    # Apply 2 Convolution and Max Pool layers\n",
    "    \n",
    "    conv_1 = conv2d_maxpool(\n",
    "        x_tensor=x, \n",
    "        conv_num_outputs=20, \n",
    "        conv_ksize=[5, 5],\n",
    "        conv_strides=[1, 1],\n",
    "        pool_ksize=[2, 2],\n",
    "        pool_strides=[2, 2],\n",
    "    )\n",
    "    \n",
    "    conv_2 = conv2d_maxpool(\n",
    "        x_tensor=conv_1, \n",
    "        conv_num_outputs=50, \n",
    "        conv_ksize=[3, 3],\n",
    "        conv_strides=[1, 1],\n",
    "        pool_ksize=[2, 2],\n",
    "        pool_strides=[2, 2],\n",
    "    )\n",
    "    \n",
    "    # 3th conv2d_maxpool was no success\n",
    "#     conv_3 = conv2d_maxpool(\n",
    "#         x_tensor=conv_1, \n",
    "#         conv_num_outputs=70, \n",
    "#         conv_ksize=[3, 3],\n",
    "#         conv_strides=[1, 1],\n",
    "#         pool_ksize=[2, 2],\n",
    "#         pool_strides=[2, 2],\n",
    "#     )\n",
    "    \n",
    "    # dropout between stages\n",
    "    conv_dropped = tf.nn.dropout(conv_2, keep_prob)\n",
    "\n",
    "    # Apply a Flatten Layer\n",
    "    conv_flattend = flatten(x_tensor=conv_dropped)\n",
    "\n",
    "    # Apply 2 Fully Connected Layers\n",
    "    conv_flattend_connected_1 = fully_conn(x_tensor=conv_flattend, num_outputs=100)\n",
    "    conv_flattend_connected_1_dropped = tf.nn.dropout(conv_flattend_connected_1, keep_prob)\n",
    "    \n",
    "    conv_flattend_connected_2 = fully_conn(x_tensor=conv_flattend_connected_1_dropped, num_outputs=50)\n",
    "    # keep_prob tested 0.5 (does not work), 0.6 (better), 0.7 (better better), 0.8 (worse)\n",
    "    conv_flattend_connected_2_dropped = tf.nn.dropout(conv_flattend_connected_2, keep_prob + 0.2)\n",
    "    \n",
    "    # just took longer\n",
    "#     conv_flattend_connected_3 = fully_conn(x_tensor=conv_flattend_connected_2_dropped, num_outputs=30)\n",
    "#     # keep_prob tested 0.5 (does not work), 0.6 (better), 0.7 (better better)\n",
    "#     conv_flattend_connected_3_dropped = tf.nn.dropout(conv_flattend_connected_3, keep_prob + 0.4)\n",
    "    \n",
    "    # Apply an Output Layer\n",
    "    conv_out = output(x_tensor=conv_flattend_connected_2_dropped, num_outputs=10)\n",
    "    \n",
    "    return conv_out\n",
    "\n",
    "\n",
    "\"\"\"\n",
    "DON'T MODIFY ANYTHING IN THIS CELL THAT IS BELOW THIS LINE\n",
    "\"\"\"\n",
    "\n",
    "##############################\n",
    "## Build the Neural Network ##\n",
    "##############################\n",
    "\n",
    "# Remove previous weights, bias, inputs, etc..\n",
    "tf.reset_default_graph()\n",
    "\n",
    "# Inputs\n",
    "x = neural_net_image_input((32, 32, 3))\n",
    "y = neural_net_label_input(10)\n",
    "keep_prob = neural_net_keep_prob_input()\n",
    "\n",
    "# Model\n",
    "logits = conv_net(x, keep_prob)\n",
    "\n",
    "# Name logits Tensor, so that is can be loaded from disk after training\n",
    "logits = tf.identity(logits, name='logits')\n",
    "\n",
    "# Loss and Optimizer\n",
    "cost = tf.reduce_mean(tf.nn.softmax_cross_entropy_with_logits(logits=logits, labels=y))\n",
    "optimizer = tf.train.AdamOptimizer().minimize(cost)\n",
    "\n",
    "# Accuracy\n",
    "correct_pred = tf.equal(tf.argmax(logits, 1), tf.argmax(y, 1))\n",
    "accuracy = tf.reduce_mean(tf.cast(correct_pred, tf.float32), name='accuracy')\n",
    "\n",
    "tests.test_conv_net(conv_net)"
   ]
  },
  {
   "cell_type": "markdown",
   "metadata": {
    "deletable": true,
    "editable": true
   },
   "source": [
    "## Train the Neural Network\n",
    "### Single Optimization\n",
    "Implement the function `train_neural_network` to do a single optimization.  The optimization should use `optimizer` to optimize in `session` with a `feed_dict` of the following:\n",
    "* `x` for image input\n",
    "* `y` for labels\n",
    "* `keep_prob` for keep probability for dropout\n",
    "\n",
    "This function will be called for each batch, so `tf.global_variables_initializer()` has already been called.\n",
    "\n",
    "Note: Nothing needs to be returned. This function is only optimizing the neural network."
   ]
  },
  {
   "cell_type": "code",
   "execution_count": 14,
   "metadata": {
    "collapsed": false,
    "deletable": true,
    "editable": true
   },
   "outputs": [
    {
     "name": "stdout",
     "output_type": "stream",
     "text": [
      "Tests Passed\n"
     ]
    }
   ],
   "source": [
    "def train_neural_network(session, optimizer, keep_probability, feature_batch, label_batch):\n",
    "    \"\"\"\n",
    "    Optimize the session on a batch of images and labels\n",
    "    : session: Current TensorFlow session\n",
    "    : optimizer: TensorFlow optimizer function\n",
    "    : keep_probability: keep probability\n",
    "    : feature_batch: Batch of Numpy image data\n",
    "    : label_batch: Batch of Numpy label data\n",
    "    \"\"\"\n",
    "    session.run(\n",
    "        optimizer,\n",
    "        feed_dict={\n",
    "            x: feature_batch,\n",
    "            y: label_batch,\n",
    "            keep_prob: keep_probability\n",
    "        }\n",
    "    )\n",
    "\n",
    "\n",
    "\"\"\"\n",
    "DON'T MODIFY ANYTHING IN THIS CELL THAT IS BELOW THIS LINE\n",
    "\"\"\"\n",
    "tests.test_train_nn(train_neural_network)"
   ]
  },
  {
   "cell_type": "markdown",
   "metadata": {
    "deletable": true,
    "editable": true
   },
   "source": [
    "### Show Stats\n",
    "Implement the function `print_stats` to print loss and validation accuracy.  Use the global variables `valid_features` and `valid_labels` to calculate validation accuracy.  Use a keep probability of `1.0` to calculate the loss and validation accuracy."
   ]
  },
  {
   "cell_type": "code",
   "execution_count": 15,
   "metadata": {
    "collapsed": false,
    "deletable": true,
    "editable": true
   },
   "outputs": [],
   "source": [
    "def print_stats(session, feature_batch, label_batch, cost, accuracy):\n",
    "    \"\"\"\n",
    "    Print information about loss and validation accuracy\n",
    "    : session: Current TensorFlow session\n",
    "    : feature_batch: Batch of Numpy image data\n",
    "    : label_batch: Batch of Numpy label data\n",
    "    : cost: TensorFlow cost function\n",
    "    : accuracy: TensorFlow accuracy function\n",
    "    \"\"\"\n",
    "    loss = session.run(\n",
    "        cost, \n",
    "        feed_dict={\n",
    "            x: feature_batch,\n",
    "            y: label_batch,\n",
    "            keep_prob: 1.\n",
    "        }\n",
    "    )\n",
    "    \n",
    "    valid_acc = session.run(\n",
    "        accuracy, \n",
    "        feed_dict={\n",
    "            x: valid_features,\n",
    "            y: valid_labels,\n",
    "            keep_prob: 1.\n",
    "        }\n",
    "    )\n",
    "    \n",
    "    print('Loss: {:>10.4f} Validation Accuracy: {:.6f}'.format(loss, valid_acc))"
   ]
  },
  {
   "cell_type": "markdown",
   "metadata": {
    "deletable": true,
    "editable": true
   },
   "source": [
    "### Hyperparameters\n",
    "Tune the following parameters:\n",
    "* Set `epochs` to the number of iterations until the network stops learning or start overfitting\n",
    "* Set `batch_size` to the highest number that your machine has memory for.  Most people set them to common sizes of memory:\n",
    " * 64\n",
    " * 128\n",
    " * 256\n",
    " * ...\n",
    "* Set `keep_probability` to the probability of keeping a node using dropout"
   ]
  },
  {
   "cell_type": "code",
   "execution_count": 61,
   "metadata": {
    "collapsed": true,
    "deletable": true,
    "editable": true
   },
   "outputs": [],
   "source": [
    "# Parameters\n",
    "epochs = 31\n",
    "batch_size = 128\n",
    "keep_probability = 0.5"
   ]
  },
  {
   "cell_type": "markdown",
   "metadata": {
    "deletable": true,
    "editable": true
   },
   "source": [
    "### Train on a Single CIFAR-10 Batch\n",
    "Instead of training the neural network on all the CIFAR-10 batches of data, let's use a single batch. This should save time while you iterate on the model to get a better accuracy.  Once the final validation accuracy is 50% or greater, run the model on all the data in the next section."
   ]
  },
  {
   "cell_type": "code",
   "execution_count": 62,
   "metadata": {
    "collapsed": false,
    "deletable": true,
    "editable": true
   },
   "outputs": [
    {
     "name": "stdout",
     "output_type": "stream",
     "text": [
      "Checking the Training on a Single Batch...\n",
      "Epoch  1, CIFAR-10 Batch 1:  Loss:     2.2331 Validation Accuracy: 0.220600\n",
      "Epoch  2, CIFAR-10 Batch 1:  Loss:     2.1065 Validation Accuracy: 0.292600\n",
      "Epoch  3, CIFAR-10 Batch 1:  Loss:     2.0625 Validation Accuracy: 0.331200\n",
      "Epoch  4, CIFAR-10 Batch 1:  Loss:     1.9547 Validation Accuracy: 0.354200\n",
      "Epoch  5, CIFAR-10 Batch 1:  Loss:     1.9532 Validation Accuracy: 0.373000\n",
      "Epoch  6, CIFAR-10 Batch 1:  Loss:     1.9158 Validation Accuracy: 0.382600\n",
      "Epoch  7, CIFAR-10 Batch 1:  Loss:     1.9531 Validation Accuracy: 0.395800\n",
      "Epoch  8, CIFAR-10 Batch 1:  Loss:     1.8212 Validation Accuracy: 0.391600\n",
      "Epoch  9, CIFAR-10 Batch 1:  Loss:     1.8242 Validation Accuracy: 0.412200\n",
      "Epoch 10, CIFAR-10 Batch 1:  Loss:     1.7703 Validation Accuracy: 0.411200\n",
      "Epoch 11, CIFAR-10 Batch 1:  Loss:     1.7346 Validation Accuracy: 0.414200\n",
      "Epoch 12, CIFAR-10 Batch 1:  Loss:     1.7431 Validation Accuracy: 0.420200\n",
      "Epoch 13, CIFAR-10 Batch 1:  Loss:     1.7051 Validation Accuracy: 0.435400\n",
      "Epoch 14, CIFAR-10 Batch 1:  Loss:     1.7106 Validation Accuracy: 0.426200\n",
      "Epoch 15, CIFAR-10 Batch 1:  Loss:     1.6439 Validation Accuracy: 0.438200\n",
      "Epoch 16, CIFAR-10 Batch 1:  Loss:     1.5769 Validation Accuracy: 0.437000\n",
      "Epoch 17, CIFAR-10 Batch 1:  Loss:     1.5673 Validation Accuracy: 0.446000\n",
      "Epoch 18, CIFAR-10 Batch 1:  Loss:     1.5699 Validation Accuracy: 0.447400\n",
      "Epoch 19, CIFAR-10 Batch 1:  Loss:     1.5275 Validation Accuracy: 0.464000\n",
      "Epoch 20, CIFAR-10 Batch 1:  Loss:     1.4726 Validation Accuracy: 0.461000\n",
      "Epoch 21, CIFAR-10 Batch 1:  Loss:     1.4711 Validation Accuracy: 0.478800\n",
      "Epoch 22, CIFAR-10 Batch 1:  Loss:     1.4796 Validation Accuracy: 0.472400\n",
      "Epoch 23, CIFAR-10 Batch 1:  Loss:     1.4326 Validation Accuracy: 0.475400\n",
      "Epoch 24, CIFAR-10 Batch 1:  Loss:     1.3939 Validation Accuracy: 0.479000\n",
      "Epoch 25, CIFAR-10 Batch 1:  Loss:     1.3609 Validation Accuracy: 0.488800\n",
      "Epoch 26, CIFAR-10 Batch 1:  Loss:     1.3623 Validation Accuracy: 0.480800\n",
      "Epoch 27, CIFAR-10 Batch 1:  Loss:     1.2663 Validation Accuracy: 0.500200\n",
      "Epoch 28, CIFAR-10 Batch 1:  Loss:     1.2931 Validation Accuracy: 0.493400\n",
      "Epoch 29, CIFAR-10 Batch 1:  Loss:     1.1941 Validation Accuracy: 0.507200\n",
      "Epoch 30, CIFAR-10 Batch 1:  Loss:     1.1475 Validation Accuracy: 0.507800\n",
      "Epoch 31, CIFAR-10 Batch 1:  Loss:     1.1521 Validation Accuracy: 0.512400\n"
     ]
    }
   ],
   "source": [
    "\"\"\"\n",
    "DON'T MODIFY ANYTHING IN THIS CELL\n",
    "\"\"\"\n",
    "print('Checking the Training on a Single Batch...')\n",
    "with tf.Session() as sess:\n",
    "    # Initializing the variables\n",
    "    sess.run(tf.global_variables_initializer())\n",
    "    \n",
    "    # Training cycle\n",
    "    for epoch in range(epochs):\n",
    "        batch_i = 1\n",
    "        for batch_features, batch_labels in helper.load_preprocess_training_batch(batch_i, batch_size):\n",
    "            train_neural_network(sess, optimizer, keep_probability, batch_features, batch_labels)\n",
    "        print('Epoch {:>2}, CIFAR-10 Batch {}:  '.format(epoch + 1, batch_i), end='')\n",
    "        print_stats(sess, batch_features, batch_labels, cost, accuracy)"
   ]
  },
  {
   "cell_type": "markdown",
   "metadata": {
    "deletable": true,
    "editable": true
   },
   "source": [
    "Test"
   ]
  },
  {
   "cell_type": "markdown",
   "metadata": {
    "deletable": true,
    "editable": true
   },
   "source": [
    "### Fully Train the Model\n",
    "Now that you got a good accuracy with a single CIFAR-10 batch, try it with all five batches."
   ]
  },
  {
   "cell_type": "code",
   "execution_count": 63,
   "metadata": {
    "collapsed": false,
    "deletable": true,
    "editable": true
   },
   "outputs": [
    {
     "name": "stdout",
     "output_type": "stream",
     "text": [
      "Training...\n",
      "Epoch  1, CIFAR-10 Batch 1:  Loss:     2.2127 Validation Accuracy: 0.216400\n",
      "Epoch  1, CIFAR-10 Batch 2:  Loss:     2.1173 Validation Accuracy: 0.268800\n",
      "Epoch  1, CIFAR-10 Batch 3:  Loss:     1.8765 Validation Accuracy: 0.269400\n",
      "Epoch  1, CIFAR-10 Batch 4:  Loss:     1.9211 Validation Accuracy: 0.280600\n",
      "Epoch  1, CIFAR-10 Batch 5:  Loss:     2.0201 Validation Accuracy: 0.301600\n",
      "Epoch  2, CIFAR-10 Batch 1:  Loss:     2.1733 Validation Accuracy: 0.324600\n",
      "Epoch  2, CIFAR-10 Batch 2:  Loss:     2.0159 Validation Accuracy: 0.349600\n",
      "Epoch  2, CIFAR-10 Batch 3:  Loss:     1.6761 Validation Accuracy: 0.356200\n",
      "Epoch  2, CIFAR-10 Batch 4:  Loss:     1.7175 Validation Accuracy: 0.382400\n",
      "Epoch  2, CIFAR-10 Batch 5:  Loss:     1.8149 Validation Accuracy: 0.388200\n",
      "Epoch  3, CIFAR-10 Batch 1:  Loss:     1.9266 Validation Accuracy: 0.404000\n",
      "Epoch  3, CIFAR-10 Batch 2:  Loss:     1.7204 Validation Accuracy: 0.412000\n",
      "Epoch  3, CIFAR-10 Batch 3:  Loss:     1.4968 Validation Accuracy: 0.413400\n",
      "Epoch  3, CIFAR-10 Batch 4:  Loss:     1.5960 Validation Accuracy: 0.412000\n",
      "Epoch  3, CIFAR-10 Batch 5:  Loss:     1.7243 Validation Accuracy: 0.419000\n",
      "Epoch  4, CIFAR-10 Batch 1:  Loss:     1.8691 Validation Accuracy: 0.433200\n",
      "Epoch  4, CIFAR-10 Batch 2:  Loss:     1.6254 Validation Accuracy: 0.440200\n",
      "Epoch  4, CIFAR-10 Batch 3:  Loss:     1.3797 Validation Accuracy: 0.448600\n",
      "Epoch  4, CIFAR-10 Batch 4:  Loss:     1.5125 Validation Accuracy: 0.455400\n",
      "Epoch  4, CIFAR-10 Batch 5:  Loss:     1.6387 Validation Accuracy: 0.442200\n",
      "Epoch  5, CIFAR-10 Batch 1:  Loss:     1.6986 Validation Accuracy: 0.464400\n",
      "Epoch  5, CIFAR-10 Batch 2:  Loss:     1.5426 Validation Accuracy: 0.462000\n",
      "Epoch  5, CIFAR-10 Batch 3:  Loss:     1.3021 Validation Accuracy: 0.465800\n",
      "Epoch  5, CIFAR-10 Batch 4:  Loss:     1.4932 Validation Accuracy: 0.480000\n",
      "Epoch  5, CIFAR-10 Batch 5:  Loss:     1.4566 Validation Accuracy: 0.477600\n",
      "Epoch  6, CIFAR-10 Batch 1:  Loss:     1.5402 Validation Accuracy: 0.492000\n",
      "Epoch  6, CIFAR-10 Batch 2:  Loss:     1.3683 Validation Accuracy: 0.498200\n",
      "Epoch  6, CIFAR-10 Batch 3:  Loss:     1.2609 Validation Accuracy: 0.485200\n",
      "Epoch  6, CIFAR-10 Batch 4:  Loss:     1.3432 Validation Accuracy: 0.506400\n",
      "Epoch  6, CIFAR-10 Batch 5:  Loss:     1.4431 Validation Accuracy: 0.489600\n",
      "Epoch  7, CIFAR-10 Batch 1:  Loss:     1.4441 Validation Accuracy: 0.510800\n",
      "Epoch  7, CIFAR-10 Batch 2:  Loss:     1.2527 Validation Accuracy: 0.511200\n",
      "Epoch  7, CIFAR-10 Batch 3:  Loss:     1.1522 Validation Accuracy: 0.517600\n",
      "Epoch  7, CIFAR-10 Batch 4:  Loss:     1.2974 Validation Accuracy: 0.511800\n",
      "Epoch  7, CIFAR-10 Batch 5:  Loss:     1.3550 Validation Accuracy: 0.506000\n",
      "Epoch  8, CIFAR-10 Batch 1:  Loss:     1.4030 Validation Accuracy: 0.525400\n",
      "Epoch  8, CIFAR-10 Batch 2:  Loss:     1.2007 Validation Accuracy: 0.533200\n",
      "Epoch  8, CIFAR-10 Batch 3:  Loss:     1.1132 Validation Accuracy: 0.535800\n",
      "Epoch  8, CIFAR-10 Batch 4:  Loss:     1.2294 Validation Accuracy: 0.526400\n",
      "Epoch  8, CIFAR-10 Batch 5:  Loss:     1.2850 Validation Accuracy: 0.531800\n",
      "Epoch  9, CIFAR-10 Batch 1:  Loss:     1.3156 Validation Accuracy: 0.545600\n",
      "Epoch  9, CIFAR-10 Batch 2:  Loss:     1.1755 Validation Accuracy: 0.542800\n",
      "Epoch  9, CIFAR-10 Batch 3:  Loss:     1.0955 Validation Accuracy: 0.537200\n",
      "Epoch  9, CIFAR-10 Batch 4:  Loss:     1.1846 Validation Accuracy: 0.551400\n",
      "Epoch  9, CIFAR-10 Batch 5:  Loss:     1.2074 Validation Accuracy: 0.537200\n",
      "Epoch 10, CIFAR-10 Batch 1:  Loss:     1.2683 Validation Accuracy: 0.549200\n",
      "Epoch 10, CIFAR-10 Batch 2:  Loss:     1.1350 Validation Accuracy: 0.556400\n",
      "Epoch 10, CIFAR-10 Batch 3:  Loss:     1.0474 Validation Accuracy: 0.554000\n",
      "Epoch 10, CIFAR-10 Batch 4:  Loss:     1.1616 Validation Accuracy: 0.560400\n",
      "Epoch 10, CIFAR-10 Batch 5:  Loss:     1.1562 Validation Accuracy: 0.554000\n",
      "Epoch 11, CIFAR-10 Batch 1:  Loss:     1.2168 Validation Accuracy: 0.565200\n",
      "Epoch 11, CIFAR-10 Batch 2:  Loss:     1.0951 Validation Accuracy: 0.538200\n",
      "Epoch 11, CIFAR-10 Batch 3:  Loss:     0.9925 Validation Accuracy: 0.566600\n",
      "Epoch 11, CIFAR-10 Batch 4:  Loss:     1.1536 Validation Accuracy: 0.555400\n",
      "Epoch 11, CIFAR-10 Batch 5:  Loss:     1.1221 Validation Accuracy: 0.567000\n",
      "Epoch 12, CIFAR-10 Batch 1:  Loss:     1.2129 Validation Accuracy: 0.582800\n",
      "Epoch 12, CIFAR-10 Batch 2:  Loss:     1.0804 Validation Accuracy: 0.563200\n",
      "Epoch 12, CIFAR-10 Batch 3:  Loss:     0.9784 Validation Accuracy: 0.579200\n",
      "Epoch 12, CIFAR-10 Batch 4:  Loss:     1.0603 Validation Accuracy: 0.585600\n",
      "Epoch 12, CIFAR-10 Batch 5:  Loss:     1.1135 Validation Accuracy: 0.555000\n",
      "Epoch 13, CIFAR-10 Batch 1:  Loss:     1.1686 Validation Accuracy: 0.578800\n",
      "Epoch 13, CIFAR-10 Batch 2:  Loss:     1.0524 Validation Accuracy: 0.579600\n",
      "Epoch 13, CIFAR-10 Batch 3:  Loss:     0.9269 Validation Accuracy: 0.585000\n",
      "Epoch 13, CIFAR-10 Batch 4:  Loss:     1.1012 Validation Accuracy: 0.591400\n",
      "Epoch 13, CIFAR-10 Batch 5:  Loss:     1.0967 Validation Accuracy: 0.578600\n",
      "Epoch 14, CIFAR-10 Batch 1:  Loss:     1.1346 Validation Accuracy: 0.593200\n",
      "Epoch 14, CIFAR-10 Batch 2:  Loss:     1.0352 Validation Accuracy: 0.595000\n",
      "Epoch 14, CIFAR-10 Batch 3:  Loss:     0.9024 Validation Accuracy: 0.584800\n",
      "Epoch 14, CIFAR-10 Batch 4:  Loss:     1.0746 Validation Accuracy: 0.590000\n",
      "Epoch 14, CIFAR-10 Batch 5:  Loss:     1.0876 Validation Accuracy: 0.590800\n",
      "Epoch 15, CIFAR-10 Batch 1:  Loss:     1.0805 Validation Accuracy: 0.601200\n",
      "Epoch 15, CIFAR-10 Batch 2:  Loss:     0.9763 Validation Accuracy: 0.586600\n",
      "Epoch 15, CIFAR-10 Batch 3:  Loss:     0.8923 Validation Accuracy: 0.601400\n",
      "Epoch 15, CIFAR-10 Batch 4:  Loss:     0.9904 Validation Accuracy: 0.586000\n",
      "Epoch 15, CIFAR-10 Batch 5:  Loss:     1.0225 Validation Accuracy: 0.593600\n",
      "Epoch 16, CIFAR-10 Batch 1:  Loss:     1.0538 Validation Accuracy: 0.607600\n",
      "Epoch 16, CIFAR-10 Batch 2:  Loss:     0.9799 Validation Accuracy: 0.595400\n",
      "Epoch 16, CIFAR-10 Batch 3:  Loss:     0.8679 Validation Accuracy: 0.603600\n",
      "Epoch 16, CIFAR-10 Batch 4:  Loss:     0.9746 Validation Accuracy: 0.606200\n",
      "Epoch 16, CIFAR-10 Batch 5:  Loss:     0.9641 Validation Accuracy: 0.592600\n",
      "Epoch 17, CIFAR-10 Batch 1:  Loss:     1.0229 Validation Accuracy: 0.603400\n",
      "Epoch 17, CIFAR-10 Batch 2:  Loss:     0.9651 Validation Accuracy: 0.603400\n",
      "Epoch 17, CIFAR-10 Batch 3:  Loss:     0.8752 Validation Accuracy: 0.599400\n",
      "Epoch 17, CIFAR-10 Batch 4:  Loss:     0.9577 Validation Accuracy: 0.587000\n",
      "Epoch 17, CIFAR-10 Batch 5:  Loss:     0.9773 Validation Accuracy: 0.602600\n",
      "Epoch 18, CIFAR-10 Batch 1:  Loss:     1.0257 Validation Accuracy: 0.605200\n",
      "Epoch 18, CIFAR-10 Batch 2:  Loss:     0.8895 Validation Accuracy: 0.605400\n",
      "Epoch 18, CIFAR-10 Batch 3:  Loss:     0.8780 Validation Accuracy: 0.581800\n",
      "Epoch 18, CIFAR-10 Batch 4:  Loss:     0.9890 Validation Accuracy: 0.614000\n",
      "Epoch 18, CIFAR-10 Batch 5:  Loss:     0.9486 Validation Accuracy: 0.606400\n",
      "Epoch 19, CIFAR-10 Batch 1:  Loss:     0.9943 Validation Accuracy: 0.611200\n",
      "Epoch 19, CIFAR-10 Batch 2:  Loss:     0.9227 Validation Accuracy: 0.617600\n",
      "Epoch 19, CIFAR-10 Batch 3:  Loss:     0.8258 Validation Accuracy: 0.601800\n",
      "Epoch 19, CIFAR-10 Batch 4:  Loss:     0.9436 Validation Accuracy: 0.622400\n",
      "Epoch 19, CIFAR-10 Batch 5:  Loss:     0.9378 Validation Accuracy: 0.609400\n",
      "Epoch 20, CIFAR-10 Batch 1:  Loss:     1.0247 Validation Accuracy: 0.606800\n",
      "Epoch 20, CIFAR-10 Batch 2:  Loss:     0.9099 Validation Accuracy: 0.617000\n",
      "Epoch 20, CIFAR-10 Batch 3:  Loss:     0.8174 Validation Accuracy: 0.616000\n",
      "Epoch 20, CIFAR-10 Batch 4:  Loss:     0.9578 Validation Accuracy: 0.622200\n",
      "Epoch 20, CIFAR-10 Batch 5:  Loss:     0.9455 Validation Accuracy: 0.604600\n",
      "Epoch 21, CIFAR-10 Batch 1:  Loss:     0.9499 Validation Accuracy: 0.619400\n",
      "Epoch 21, CIFAR-10 Batch 2:  Loss:     0.8741 Validation Accuracy: 0.620600\n",
      "Epoch 21, CIFAR-10 Batch 3:  Loss:     0.7819 Validation Accuracy: 0.625400\n",
      "Epoch 21, CIFAR-10 Batch 4:  Loss:     0.9717 Validation Accuracy: 0.631800\n",
      "Epoch 21, CIFAR-10 Batch 5:  Loss:     0.9001 Validation Accuracy: 0.613200\n",
      "Epoch 22, CIFAR-10 Batch 1:  Loss:     0.9641 Validation Accuracy: 0.624800\n",
      "Epoch 22, CIFAR-10 Batch 2:  Loss:     0.8848 Validation Accuracy: 0.628800\n",
      "Epoch 22, CIFAR-10 Batch 3:  Loss:     0.8063 Validation Accuracy: 0.625000\n",
      "Epoch 22, CIFAR-10 Batch 4:  Loss:     0.9390 Validation Accuracy: 0.629800\n",
      "Epoch 22, CIFAR-10 Batch 5:  Loss:     0.8541 Validation Accuracy: 0.625800\n",
      "Epoch 23, CIFAR-10 Batch 1:  Loss:     0.9520 Validation Accuracy: 0.617800\n",
      "Epoch 23, CIFAR-10 Batch 2:  Loss:     0.8517 Validation Accuracy: 0.621200\n",
      "Epoch 23, CIFAR-10 Batch 3:  Loss:     0.7956 Validation Accuracy: 0.628200\n",
      "Epoch 23, CIFAR-10 Batch 4:  Loss:     0.8461 Validation Accuracy: 0.635800\n",
      "Epoch 23, CIFAR-10 Batch 5:  Loss:     0.8449 Validation Accuracy: 0.620400\n",
      "Epoch 24, CIFAR-10 Batch 1:  Loss:     0.8942 Validation Accuracy: 0.631800\n",
      "Epoch 24, CIFAR-10 Batch 2:  Loss:     0.8288 Validation Accuracy: 0.627600\n",
      "Epoch 24, CIFAR-10 Batch 3:  Loss:     0.7558 Validation Accuracy: 0.621200\n",
      "Epoch 24, CIFAR-10 Batch 4:  Loss:     0.8887 Validation Accuracy: 0.636400\n",
      "Epoch 24, CIFAR-10 Batch 5:  Loss:     0.8543 Validation Accuracy: 0.623000\n",
      "Epoch 25, CIFAR-10 Batch 1:  Loss:     0.9015 Validation Accuracy: 0.629000\n",
      "Epoch 25, CIFAR-10 Batch 2:  Loss:     0.8894 Validation Accuracy: 0.629000\n",
      "Epoch 25, CIFAR-10 Batch 3:  Loss:     0.7351 Validation Accuracy: 0.634400\n",
      "Epoch 25, CIFAR-10 Batch 4:  Loss:     0.8448 Validation Accuracy: 0.630000\n",
      "Epoch 25, CIFAR-10 Batch 5:  Loss:     0.8042 Validation Accuracy: 0.629200\n",
      "Epoch 26, CIFAR-10 Batch 1:  Loss:     0.9231 Validation Accuracy: 0.634200\n",
      "Epoch 26, CIFAR-10 Batch 2:  Loss:     0.8369 Validation Accuracy: 0.634600\n",
      "Epoch 26, CIFAR-10 Batch 3:  Loss:     0.7005 Validation Accuracy: 0.637400\n",
      "Epoch 26, CIFAR-10 Batch 4:  Loss:     0.8257 Validation Accuracy: 0.640600\n",
      "Epoch 26, CIFAR-10 Batch 5:  Loss:     0.7861 Validation Accuracy: 0.638200\n",
      "Epoch 27, CIFAR-10 Batch 1:  Loss:     0.9700 Validation Accuracy: 0.622600\n",
      "Epoch 27, CIFAR-10 Batch 2:  Loss:     0.8230 Validation Accuracy: 0.637200\n",
      "Epoch 27, CIFAR-10 Batch 3:  Loss:     0.7020 Validation Accuracy: 0.636600\n",
      "Epoch 27, CIFAR-10 Batch 4:  Loss:     0.8218 Validation Accuracy: 0.641800\n",
      "Epoch 27, CIFAR-10 Batch 5:  Loss:     0.8224 Validation Accuracy: 0.635400\n",
      "Epoch 28, CIFAR-10 Batch 1:  Loss:     0.9016 Validation Accuracy: 0.624800\n",
      "Epoch 28, CIFAR-10 Batch 2:  Loss:     0.8164 Validation Accuracy: 0.643200\n",
      "Epoch 28, CIFAR-10 Batch 3:  Loss:     0.6913 Validation Accuracy: 0.639600\n",
      "Epoch 28, CIFAR-10 Batch 4:  Loss:     0.8304 Validation Accuracy: 0.645200\n",
      "Epoch 28, CIFAR-10 Batch 5:  Loss:     0.8201 Validation Accuracy: 0.646200\n",
      "Epoch 29, CIFAR-10 Batch 1:  Loss:     0.9550 Validation Accuracy: 0.635800\n",
      "Epoch 29, CIFAR-10 Batch 2:  Loss:     0.8018 Validation Accuracy: 0.627000\n",
      "Epoch 29, CIFAR-10 Batch 3:  Loss:     0.6750 Validation Accuracy: 0.639000\n",
      "Epoch 29, CIFAR-10 Batch 4:  Loss:     0.8082 Validation Accuracy: 0.640600\n",
      "Epoch 29, CIFAR-10 Batch 5:  Loss:     0.8075 Validation Accuracy: 0.644200\n",
      "Epoch 30, CIFAR-10 Batch 1:  Loss:     0.9060 Validation Accuracy: 0.632400\n",
      "Epoch 30, CIFAR-10 Batch 2:  Loss:     0.7671 Validation Accuracy: 0.640800\n",
      "Epoch 30, CIFAR-10 Batch 3:  Loss:     0.7089 Validation Accuracy: 0.634600\n",
      "Epoch 30, CIFAR-10 Batch 4:  Loss:     0.8132 Validation Accuracy: 0.644400\n",
      "Epoch 30, CIFAR-10 Batch 5:  Loss:     0.7671 Validation Accuracy: 0.644600\n",
      "Epoch 31, CIFAR-10 Batch 1:  Loss:     0.8981 Validation Accuracy: 0.639400\n",
      "Epoch 31, CIFAR-10 Batch 2:  Loss:     0.7833 Validation Accuracy: 0.644000\n",
      "Epoch 31, CIFAR-10 Batch 3:  Loss:     0.6268 Validation Accuracy: 0.639600\n",
      "Epoch 31, CIFAR-10 Batch 4:  Loss:     0.7979 Validation Accuracy: 0.653600\n",
      "Epoch 31, CIFAR-10 Batch 5:  Loss:     0.8256 Validation Accuracy: 0.649000\n"
     ]
    }
   ],
   "source": [
    "\"\"\"\n",
    "DON'T MODIFY ANYTHING IN THIS CELL\n",
    "\"\"\"\n",
    "save_model_path = './image_classification'\n",
    "\n",
    "print('Training...')\n",
    "with tf.Session() as sess:\n",
    "    # Initializing the variables\n",
    "    sess.run(tf.global_variables_initializer())\n",
    "    \n",
    "    # Training cycle\n",
    "    for epoch in range(epochs):\n",
    "        # Loop over all batches\n",
    "        n_batches = 5\n",
    "        for batch_i in range(1, n_batches + 1):\n",
    "            for batch_features, batch_labels in helper.load_preprocess_training_batch(batch_i, batch_size):\n",
    "                train_neural_network(sess, optimizer, keep_probability, batch_features, batch_labels)\n",
    "            print('Epoch {:>2}, CIFAR-10 Batch {}:  '.format(epoch + 1, batch_i), end='')\n",
    "            print_stats(sess, batch_features, batch_labels, cost, accuracy)\n",
    "            \n",
    "    # Save Model\n",
    "    saver = tf.train.Saver()\n",
    "    save_path = saver.save(sess, save_model_path)"
   ]
  },
  {
   "cell_type": "markdown",
   "metadata": {
    "deletable": true,
    "editable": true
   },
   "source": [
    "# Checkpoint\n",
    "The model has been saved to disk.\n",
    "## Test Model\n",
    "Test your model against the test dataset.  This will be your final accuracy. You should have an accuracy greater than 50%. If you don't, keep tweaking the model architecture and parameters."
   ]
  },
  {
   "cell_type": "code",
   "execution_count": 64,
   "metadata": {
    "collapsed": false,
    "deletable": true,
    "editable": true
   },
   "outputs": [
    {
     "name": "stdout",
     "output_type": "stream",
     "text": [
      "INFO:tensorflow:Restoring parameters from ./image_classification\n",
      "Testing Accuracy: 0.6500197784810127\n",
      "\n"
     ]
    },
    {
     "data": {
      "image/png": "[encoded data removed]",
      "text/plain": [
       "<matplotlib.figure.Figure at 0x7fe873c17048>"
      ]
     },
     "metadata": {
      "image/png": {
       "height": 319,
       "width": 355
      }
     },
     "output_type": "display_data"
    }
   ],
   "source": [
    "\"\"\"\n",
    "DON'T MODIFY ANYTHING IN THIS CELL\n",
    "\"\"\"\n",
    "%matplotlib inline\n",
    "%config InlineBackend.figure_format = 'retina'\n",
    "\n",
    "import tensorflow as tf\n",
    "import pickle\n",
    "import helper\n",
    "import random\n",
    "\n",
    "# Set batch size if not already set\n",
    "try:\n",
    "    if batch_size:\n",
    "        pass\n",
    "except NameError:\n",
    "    batch_size = 64\n",
    "\n",
    "save_model_path = './image_classification'\n",
    "n_samples = 4\n",
    "top_n_predictions = 3\n",
    "\n",
    "def test_model():\n",
    "    \"\"\"\n",
    "    Test the saved model against the test dataset\n",
    "    \"\"\"\n",
    "\n",
    "    test_features, test_labels = pickle.load(open('preprocess_training.p', mode='rb'))\n",
    "    loaded_graph = tf.Graph()\n",
    "\n",
    "    with tf.Session(graph=loaded_graph) as sess:\n",
    "        # Load model\n",
    "        loader = tf.train.import_meta_graph(save_model_path + '.meta')\n",
    "        loader.restore(sess, save_model_path)\n",
    "\n",
    "        # Get Tensors from loaded model\n",
    "        loaded_x = loaded_graph.get_tensor_by_name('x:0')\n",
    "        loaded_y = loaded_graph.get_tensor_by_name('y:0')\n",
    "        loaded_keep_prob = loaded_graph.get_tensor_by_name('keep_prob:0')\n",
    "        loaded_logits = loaded_graph.get_tensor_by_name('logits:0')\n",
    "        loaded_acc = loaded_graph.get_tensor_by_name('accuracy:0')\n",
    "        \n",
    "        # Get accuracy in batches for memory limitations\n",
    "        test_batch_acc_total = 0\n",
    "        test_batch_count = 0\n",
    "        \n",
    "        for train_feature_batch, train_label_batch in helper.batch_features_labels(test_features, test_labels, batch_size):\n",
    "            test_batch_acc_total += sess.run(\n",
    "                loaded_acc,\n",
    "                feed_dict={loaded_x: train_feature_batch, loaded_y: train_label_batch, loaded_keep_prob: 1.0})\n",
    "            test_batch_count += 1\n",
    "\n",
    "        print('Testing Accuracy: {}\\n'.format(test_batch_acc_total/test_batch_count))\n",
    "\n",
    "        # Print Random Samples\n",
    "        random_test_features, random_test_labels = tuple(zip(*random.sample(list(zip(test_features, test_labels)), n_samples)))\n",
    "        random_test_predictions = sess.run(\n",
    "            tf.nn.top_k(tf.nn.softmax(loaded_logits), top_n_predictions),\n",
    "            feed_dict={loaded_x: random_test_features, loaded_y: random_test_labels, loaded_keep_prob: 1.0})\n",
    "        helper.display_image_predictions(random_test_features, random_test_labels, random_test_predictions)\n",
    "\n",
    "\n",
    "test_model()"
   ]
  },
  {
   "cell_type": "markdown",
   "metadata": {
    "deletable": true,
    "editable": true
   },
   "source": [
    "## Why 50-70% Accuracy?\n",
    "You might be wondering why you can't get an accuracy any higher. First things first, 50% isn't bad for a simple CNN.  Pure guessing would get you 10% accuracy. However, you might notice people are getting scores [well above 70%](http://rodrigob.github.io/are_we_there_yet/build/classification_datasets_results.html#43494641522d3130).  That's because we haven't taught you all there is to know about neural networks. We still need to cover a few more techniques.\n",
    "## Submitting This Project\n",
    "When submitting this project, make sure to run all the cells before saving the notebook.  Save the notebook file as \"dlnd_image_classification.ipynb\" and save it as a HTML file under \"File\" -> \"Download as\".  Include the \"helper.py\" and \"problem_unittests.py\" files in your submission."
   ]
  }
 ],
 "metadata": {
  "kernelspec": {
   "display_name": "Python 3",
   "language": "python",
   "name": "python3"
  },
  "language_info": {
   "codemirror_mode": {
    "name": "ipython",
    "version": 3
   },
   "file_extension": ".py",
   "mimetype": "text/x-python",
   "name": "python",
   "nbconvert_exporter": "python",
   "pygments_lexer": "ipython3",
   "version": "3.5.2"
  }
 },
 "nbformat": 4,
 "nbformat_minor": 0
}
